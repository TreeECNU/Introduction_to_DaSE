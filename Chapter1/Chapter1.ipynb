{
 "cells": [
  {
   "cell_type": "code",
   "execution_count": 1,
   "id": "923c2d61",
   "metadata": {},
   "outputs": [
    {
     "name": "stdout",
     "output_type": "stream",
     "text": [
      "Hello World.\n"
     ]
    }
   ],
   "source": [
    "print(\"Hello World.\")"
   ]
  },
  {
   "cell_type": "code",
   "execution_count": 2,
   "id": "84fbcf16",
   "metadata": {},
   "outputs": [
    {
     "name": "stdout",
     "output_type": "stream",
     "text": [
      "顾树焕\n",
      "10215304424\n"
     ]
    }
   ],
   "source": [
    "print(\"顾树焕\")\n",
    "print(\"10215304424\")"
   ]
  },
  {
   "cell_type": "code",
   "execution_count": 23,
   "id": "1b9c0e05",
   "metadata": {},
   "outputs": [
    {
     "name": "stdout",
     "output_type": "stream",
     "text": [
      "★★★★★★★★★★★\n",
      "★数据科学与工程导论★\n",
      "★★★★★★★★★★★"
     ]
    }
   ],
   "source": [
    "for i in range(11):\n",
    "    print(chr(0x2605), end = '')\n",
    "print(\"\\n\" + chr(0x2605) + \"数据科学与工程导论\" + chr(0x2605))\n",
    "for i in range(11):\n",
    "    print(chr(0x2605), end = '')"
   ]
  },
  {
   "cell_type": "code",
   "execution_count": 38,
   "id": "63b2111f",
   "metadata": {},
   "outputs": [
    {
     "name": "stdout",
     "output_type": "stream",
     "text": [
      "input: x = 1\n",
      "input: y = 2\n",
      "input: z = 3\n",
      "从小到大输出为：\n",
      "1 2 3 "
     ]
    }
   ],
   "source": [
    "def sort_of_three_numbers(x, y, z):\n",
    "    number = [x, y, z]\n",
    "    for i in range(len(number)):\n",
    "        for j in range(i + 1, len(number), 1):\n",
    "            if number[i] > number[j]:\n",
    "                number[i], number[j] = number[j], number[i]\n",
    "    print(\"从小到大输出为：\")\n",
    "    for k in range(len(number)):\n",
    "        print(number[k], end = ' ')\n",
    "x = int(input(\"input: x = \"))\n",
    "y = int(input(\"input: y = \"))\n",
    "z = int(input(\"input: z = \"))\n",
    "sort_of_three_numbers(x, y, z)"
   ]
  },
  {
   "cell_type": "code",
   "execution_count": 39,
   "id": "4abbef84",
   "metadata": {},
   "outputs": [
    {
     "name": "stdout",
     "output_type": "stream",
     "text": [
      "input: w = 1\n",
      "input: x = 2\n",
      "input: y = 3\n",
      "input: z = 4\n",
      "从大到小输出为：\n",
      "4 3 2 1 "
     ]
    }
   ],
   "source": [
    "def sort_of_four_numbers(w, x, y, z):\n",
    "    number = [w, x, y, z]\n",
    "    for i in range(len(number)):\n",
    "        for j in range(i + 1, len(number), 1):\n",
    "            if number[i] < number[j]:\n",
    "                number[i], number[j] = number[j], number[i]\n",
    "    print(\"从大到小输出为：\")\n",
    "    for k in range(len(number)):\n",
    "        print(number[k], end = ' ')\n",
    "w = int(input(\"input: w = \"))\n",
    "x = int(input(\"input: x = \"))\n",
    "y = int(input(\"input: y = \"))\n",
    "z = int(input(\"input: z = \"))\n",
    "sort_of_four_numbers(w, x, y, z)"
   ]
  },
  {
   "cell_type": "code",
   "execution_count": 32,
   "id": "14156f22",
   "metadata": {},
   "outputs": [
    {
     "name": "stdout",
     "output_type": "stream",
     "text": [
      "input: x = 100\n",
      "1 3 5 7 9 11 13 15 17 19 21 23 25 27 29 31 33 35 37 39 41 43 45 47 49 51 53 55 57 59 61 63 65 67 69 71 73 75 77 79 81 83 85 87 89 91 93 95 97 99 "
     ]
    }
   ],
   "source": [
    "def odd_number(x):\n",
    "    for i in range(1, x + 1, 1):\n",
    "        if i % 2 == 1:\n",
    "            print(i, end = ' ')\n",
    "x = int(input(\"input: x = \"))\n",
    "odd_number(x)"
   ]
  },
  {
   "cell_type": "code",
   "execution_count": 33,
   "id": "e0b22f4e",
   "metadata": {},
   "outputs": [
    {
     "name": "stdout",
     "output_type": "stream",
     "text": [
      "input: x = 100\n",
      "5050\n"
     ]
    }
   ],
   "source": [
    "def sum_of_numbers(x):\n",
    "    sum = 0\n",
    "    for i in range(1, x + 1, 1):\n",
    "        sum += i\n",
    "    print(sum)\n",
    "x = int(input(\"input: x = \"))\n",
    "sum_of_numbers(x)"
   ]
  },
  {
   "cell_type": "code",
   "execution_count": 44,
   "id": "44c1c351",
   "metadata": {
    "scrolled": true
   },
   "outputs": [
    {
     "name": "stdout",
     "output_type": "stream",
     "text": [
      "input numbers: 1 2 3 4 5\n",
      "The reversed order using for is :\n",
      "5 4 3 2 1 \n",
      "The reversed order using while is :\n",
      "5 4 3 2 1 "
     ]
    }
   ],
   "source": [
    "def reverse_using_for(a):\n",
    "    for i in range(len(a) - 1, -1, -1):\n",
    "        print(a[i], end = ' ')\n",
    "def reverse_using_while(a):\n",
    "    i = len(a) - 1\n",
    "    while i >= 0:\n",
    "        print(a[i], end = ' ')\n",
    "        i -= 1\n",
    "a = input(\"input numbers: \").split()\n",
    "print(\"The reversed order using for is :\")\n",
    "reverse_using_for(a)\n",
    "print(\"\\nThe reversed order using while is :\")\n",
    "reverse_using_while(a)"
   ]
  },
  {
   "cell_type": "code",
   "execution_count": 49,
   "id": "eca4ab44",
   "metadata": {},
   "outputs": [
    {
     "name": "stdout",
     "output_type": "stream",
     "text": [
      "input the str:shehhhwk\n",
      "Yes\n"
     ]
    }
   ],
   "source": [
    "def judge_str(a):\n",
    "    judge = 0\n",
    "    for i in range(1, len(a), 1):\n",
    "        if a[i] == a[i - 1]:\n",
    "            judge = 1\n",
    "            return judge\n",
    "    return judge\n",
    "a = input(\"input the str:\")\n",
    "if judge_str(a) == 1:\n",
    "    print(\"Yes\")\n",
    "else:\n",
    "    print(\"No\")"
   ]
  },
  {
   "cell_type": "code",
   "execution_count": 52,
   "id": "e2dd4c19",
   "metadata": {},
   "outputs": [
    {
     "name": "stdout",
     "output_type": "stream",
     "text": [
      "input the str:hdhd sjd wj\n",
      "hdhdsjdwj"
     ]
    }
   ],
   "source": [
    "def wipe_blank(a):\n",
    "    j = 0\n",
    "    b = []\n",
    "    for i in range(len(a)):\n",
    "        if(a[i] != ' '):\n",
    "            b.append(a[i])\n",
    "    for i in range(len(b)):\n",
    "        print(b[i],end = '')\n",
    "a = input(\"input the str:\")\n",
    "wipe_blank(a)"
   ]
  },
  {
   "cell_type": "code",
   "execution_count": 15,
   "id": "46f4c153",
   "metadata": {},
   "outputs": [
    {
     "name": "stdout",
     "output_type": "stream",
     "text": [
      "input x = 0.125\n",
      "0.5000002384185791\n"
     ]
    }
   ],
   "source": [
    "def solve_the_third_root(x):\n",
    "    if x < 0:\n",
    "        flag = -1\n",
    "    elif x == 0:\n",
    "        return 0\n",
    "    else:\n",
    "        flag = 1\n",
    "    if x == 1:\n",
    "        return 1\n",
    "    elif x == -1:\n",
    "        return -1\n",
    "    y = abs(x)\n",
    "    if y > 1:\n",
    "        a = 1\n",
    "        b = y\n",
    "        i = (a + b) / 2\n",
    "        t = i * i * i\n",
    "        z = abs(t - y)\n",
    "        while z > 0.000001:\n",
    "            if t > y:\n",
    "                a = a\n",
    "                b = i\n",
    "                i = (a + b) / 2\n",
    "                t = i * i * i\n",
    "            elif t < y:\n",
    "                a = i\n",
    "                b = b\n",
    "                i = (a + b) / 2\n",
    "                t = i * i * i\n",
    "            z = abs(t - y)\n",
    "        if flag > 0:\n",
    "            return i\n",
    "        else:\n",
    "            return -1 * i\n",
    "    elif y < 1:\n",
    "        a = y\n",
    "        b = 1\n",
    "        i = (a + b) / 2\n",
    "        t = i * i * i\n",
    "        z = abs(t - y)\n",
    "        while z > 0.000001:\n",
    "            if t > y:\n",
    "                a = a\n",
    "                b = i\n",
    "                i = (a + b) / 2\n",
    "                t = i * i * i\n",
    "            elif t < y:\n",
    "                a = i\n",
    "                b = b\n",
    "                i = (a + b) / 2\n",
    "                t = i * i * i\n",
    "            z = abs(t - y)\n",
    "        if flag > 0:\n",
    "            return i\n",
    "        else:\n",
    "            return -1 * i\n",
    "x = float(input(\"input x = \"))\n",
    "y = solve_the_third_root(x)\n",
    "print(y)"
   ]
  },
  {
   "cell_type": "code",
   "execution_count": 17,
   "id": "51d61715",
   "metadata": {},
   "outputs": [
    {
     "name": "stdout",
     "output_type": "stream",
     "text": [
      "input x = 4\n",
      "24\n"
     ]
    }
   ],
   "source": [
    "def factorial(x):\n",
    "    product = x\n",
    "    for i in range(x - 1, 0, -1):\n",
    "        product *= i\n",
    "    return product\n",
    "x = int(input(\"input x = \"))\n",
    "product = factorial(x)\n",
    "print(product)"
   ]
  }
 ],
 "metadata": {
  "kernelspec": {
   "display_name": "Python 3 (ipykernel)",
   "language": "python",
   "name": "python3"
  },
  "language_info": {
   "codemirror_mode": {
    "name": "ipython",
    "version": 3
   },
   "file_extension": ".py",
   "mimetype": "text/x-python",
   "name": "python",
   "nbconvert_exporter": "python",
   "pygments_lexer": "ipython3",
   "version": "3.10.9"
  }
 },
 "nbformat": 4,
 "nbformat_minor": 5
}
