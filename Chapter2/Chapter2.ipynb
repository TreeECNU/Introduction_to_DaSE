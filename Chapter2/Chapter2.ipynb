{
 "cells": [
  {
   "cell_type": "code",
   "execution_count": 53,
   "id": "b2b13d56",
   "metadata": {},
   "outputs": [
    {
     "name": "stdout",
     "output_type": "stream",
     "text": [
      "input: num = 2001\n",
      "所求得的正整数列表为：\n",
      "[3, 3, 3, 3, 3, 3, 3, 3, 3, 3, 3, 3, 3, 3, 3, 3, 3, 3, 3, 3, 3, 3, 3, 3, 3, 3, 3, 3, 3, 3, 3, 3, 3, 3, 3, 3, 3, 3, 3, 3, 3, 3, 3, 3, 3, 3, 3, 3, 3, 3, 3, 3, 3, 3, 3, 3, 3, 3, 3, 3, 3, 3, 3, 3, 3, 3, 3, 3, 3, 3, 3, 3, 3, 3, 3, 3, 3, 3, 3, 3, 3, 3, 3, 3, 3, 3, 3, 3, 3, 3, 3, 3, 3, 3, 3, 3, 3, 3, 3, 3, 3, 3, 3, 3, 3, 3, 3, 3, 3, 3, 3, 3, 3, 3, 3, 3, 3, 3, 3, 3, 3, 3, 3, 3, 3, 3, 3, 3, 3, 3, 3, 3, 3, 3, 3, 3, 3, 3, 3, 3, 3, 3, 3, 3, 3, 3, 3, 3, 3, 3, 3, 3, 3, 3, 3, 3, 3, 3, 3, 3, 3, 3, 3, 3, 3, 3, 3, 3, 3, 3, 3, 3, 3, 3, 3, 3, 3, 3, 3, 3, 3, 3, 3, 3, 3, 3, 3, 3, 3, 3, 3, 3, 3, 3, 3, 3, 3, 3, 3, 3, 3, 3, 3, 3, 3, 3, 3, 3, 3, 3, 3, 3, 3, 3, 3, 3, 3, 3, 3, 3, 3, 3, 3, 3, 3, 3, 3, 3, 3, 3, 3, 3, 3, 3, 3, 3, 3, 3, 3, 3, 3, 3, 3, 3, 3, 3, 3, 3, 3, 3, 3, 3, 3, 3, 3, 3, 3, 3, 3, 3, 3, 3, 3, 3, 3, 3, 3, 3, 3, 3, 3, 3, 3, 3, 3, 3, 3, 3, 3, 3, 3, 3, 3, 3, 3, 3, 3, 3, 3, 3, 3, 3, 3, 3, 3, 3, 3, 3, 3, 3, 3, 3, 3, 3, 3, 3, 3, 3, 3, 3, 3, 3, 3, 3, 3, 3, 3, 3, 3, 3, 3, 3, 3, 3, 3, 3, 3, 3, 3, 3, 3, 3, 3, 3, 3, 3, 3, 3, 3, 3, 3, 3, 3, 3, 3, 3, 3, 3, 3, 3, 3, 3, 3, 3, 3, 3, 3, 3, 3, 3, 3, 3, 3, 3, 3, 3, 3, 3, 3, 3, 3, 3, 3, 3, 3, 3, 3, 3, 3, 3, 3, 3, 3, 3, 3, 3, 3, 3, 3, 3, 3, 3, 3, 3, 3, 3, 3, 3, 3, 3, 3, 3, 3, 3, 3, 3, 3, 3, 3, 3, 3, 3, 3, 3, 3, 3, 3, 3, 3, 3, 3, 3, 3, 3, 3, 3, 3, 3, 3, 3, 3, 3, 3, 3, 3, 3, 3, 3, 3, 3, 3, 3, 3, 3, 3, 3, 3, 3, 3, 3, 3, 3, 3, 3, 3, 3, 3, 3, 3, 3, 3, 3, 3, 3, 3, 3, 3, 3, 3, 3, 3, 3, 3, 3, 3, 3, 3, 3, 3, 3, 3, 3, 3, 3, 3, 3, 3, 3, 3, 3, 3, 3, 3, 3, 3, 3, 3, 3, 3, 3, 3, 3, 3, 3, 3, 3, 3, 3, 3, 3, 3, 3, 3, 3, 3, 3, 3, 3, 3, 3, 3, 3, 3, 3, 3, 3, 3, 3, 3, 3, 3, 3, 3, 3, 3, 3, 3, 3, 3, 3, 3, 3, 3, 3, 3, 3, 3, 3, 3, 3, 3, 3, 3, 3, 3, 3, 3, 3, 3, 3, 3, 3, 3, 3, 3, 3, 3, 3, 3, 3, 3, 3, 3, 3, 3, 3, 3, 3, 3, 3, 3, 3, 3, 3, 3, 3, 3, 3, 3, 3, 3, 3, 3, 3, 3, 3, 3, 3, 3, 3, 3, 3, 3, 3, 3, 3, 3, 3, 3, 3, 3, 3, 3, 3, 3, 3, 3, 3, 3, 3, 3, 3, 3, 3, 3, 3, 3, 3, 3, 3, 3, 3, 3, 3, 3, 3, 3, 3, 3, 3, 3, 3, 3, 3, 3, 3, 3, 3, 3, 3, 3, 3, 3, 3, 3, 3, 3, 3, 3, 3, 3, 3, 3, 3, 3, 3, 3]\n"
     ]
    }
   ],
   "source": [
    "def max_multi(num, a):\n",
    "    if num == 1 or num == 2 or num == 3:\n",
    "        a.append(num)\n",
    "        return\n",
    "    elif num == 4:\n",
    "        a.append(2)\n",
    "        a.append(2)\n",
    "        return\n",
    "    elif num == 5:\n",
    "        a.append(2)\n",
    "        a.append(3)\n",
    "        return\n",
    "    elif num == 6:\n",
    "        a.append(3)\n",
    "        a.append(3)\n",
    "        return\n",
    "    else:\n",
    "        a.append(3)\n",
    "        max_multi(num - 3, a)\n",
    "num = int(input(\"input: num = \"))\n",
    "alist = []\n",
    "max_multi(num, alist)\n",
    "alist.sort()\n",
    "print(\"所求得的正整数列表为：\")\n",
    "print(alist)"
   ]
  },
  {
   "cell_type": "markdown",
   "id": "38eb856d",
   "metadata": {},
   "source": [
    "# 第一题\n",
    "## （1）\n",
    "如果n=2001,所求得的正整数列为：\n",
    "[3, 3, 3, 3, 3, 3, 3, 3, 3, 3, 3, 3, 3, 3, 3, 3, 3, 3, 3, 3, 3, 3, 3, 3, 3, 3, 3, 3, 3, 3, 3, 3, 3, 3, 3, 3, 3, 3, 3, 3, 3, 3, 3, 3, 3, 3, 3, 3, 3, 3, 3, 3, 3, 3, 3, 3, 3, 3, 3, 3, 3, 3, 3, 3, 3, 3, 3, 3, 3, 3, 3, 3, 3, 3, 3, 3, 3, 3, 3, 3, 3, 3, 3, 3, 3, 3, 3, 3, 3, 3, 3, 3, 3, 3, 3, 3, 3, 3, 3, 3, 3, 3, 3, 3, 3, 3, 3, 3, 3, 3, 3, 3, 3, 3, 3, 3, 3, 3, 3, 3, 3, 3, 3, 3, 3, 3, 3, 3, 3, 3, 3, 3, 3, 3, 3, 3, 3, 3, 3, 3, 3, 3, 3, 3, 3, 3, 3, 3, 3, 3, 3, 3, 3, 3, 3, 3, 3, 3, 3, 3, 3, 3, 3, 3, 3, 3, 3, 3, 3, 3, 3, 3, 3, 3, 3, 3, 3, 3, 3, 3, 3, 3, 3, 3, 3, 3, 3, 3, 3, 3, 3, 3, 3, 3, 3, 3, 3, 3, 3, 3, 3, 3, 3, 3, 3, 3, 3, 3, 3, 3, 3, 3, 3, 3, 3, 3, 3, 3, 3, 3, 3, 3, 3, 3, 3, 3, 3, 3, 3, 3, 3, 3, 3, 3, 3, 3, 3, 3, 3, 3, 3, 3, 3, 3, 3, 3, 3, 3, 3, 3, 3, 3, 3, 3, 3, 3, 3, 3, 3, 3, 3, 3, 3, 3, 3, 3, 3, 3, 3, 3, 3, 3, 3, 3, 3, 3, 3, 3, 3, 3, 3, 3, 3, 3, 3, 3, 3, 3, 3, 3, 3, 3, 3, 3, 3, 3, 3, 3, 3, 3, 3, 3, 3, 3, 3, 3, 3, 3, 3, 3, 3, 3, 3, 3, 3, 3, 3, 3, 3, 3, 3, 3, 3, 3, 3, 3, 3, 3, 3, 3, 3, 3, 3, 3, 3, 3, 3, 3, 3, 3, 3, 3, 3, 3, 3, 3, 3, 3, 3, 3, 3, 3, 3, 3, 3, 3, 3, 3, 3, 3, 3, 3, 3, 3, 3, 3, 3, 3, 3, 3, 3, 3, 3, 3, 3, 3, 3, 3, 3, 3, 3, 3, 3, 3, 3, 3, 3, 3, 3, 3, 3, 3, 3, 3, 3, 3, 3, 3, 3, 3, 3, 3, 3, 3, 3, 3, 3, 3, 3, 3, 3, 3, 3, 3, 3, 3, 3, 3, 3, 3, 3, 3, 3, 3, 3, 3, 3, 3, 3, 3, 3, 3, 3, 3, 3, 3, 3, 3, 3, 3, 3, 3, 3, 3, 3, 3, 3, 3, 3, 3, 3, 3, 3, 3, 3, 3, 3, 3, 3, 3, 3, 3, 3, 3, 3, 3, 3, 3, 3, 3, 3, 3, 3, 3, 3, 3, 3, 3, 3, 3, 3, 3, 3, 3, 3, 3, 3, 3, 3, 3, 3, 3, 3, 3, 3, 3, 3, 3, 3, 3, 3, 3, 3, 3, 3, 3, 3, 3, 3, 3, 3, 3, 3, 3, 3, 3, 3, 3, 3, 3, 3, 3, 3, 3, 3, 3, 3, 3, 3, 3, 3, 3, 3, 3, 3, 3, 3, 3, 3, 3, 3, 3, 3, 3, 3, 3, 3, 3, 3, 3, 3, 3, 3, 3, 3, 3, 3, 3, 3, 3, 3, 3, 3, 3, 3, 3, 3, 3, 3, 3, 3, 3, 3, 3, 3, 3, 3, 3, 3, 3, 3, 3, 3, 3, 3, 3, 3, 3, 3, 3, 3, 3, 3, 3, 3, 3, 3, 3, 3, 3, 3, 3, 3, 3, 3, 3, 3, 3, 3, 3, 3, 3, 3, 3, 3, 3, 3, 3, 3, 3, 3, 3, 3, 3, 3, 3, 3, 3, 3, 3, 3, 3, 3, 3, 3, 3, 3, 3, 3, 3, 3, 3, 3, 3, 3, 3, 3, 3, 3, 3, 3, 3, 3, 3, 3, 3, 3, 3, 3, 3, 3, 3, 3, 3, 3, 3, 3]\n",
    "## （2）\n",
    "迈出第一步是想到，如果两个数的和是一定的，那么这两个数越接近乘积越大，例如：两个数的和是9，那么两个数分别为4和5的时候是最大的。然后又发现，4又可以拆成2和2，5又可以拆成2和3，这样乘积又会更大。然后又通过规律发现，当一个数大于4的时候，能取出3的时候先取出3，这样得到的乘积一定是最大的。所以，就先对1-4进行规定，拆分成各自最大的乘积，而对于大于他们的数，只需每次取出3即可，通过递归即可求出正整数数列。\n",
    "## （3）\n",
    "见上述代码"
   ]
  },
  {
   "cell_type": "code",
   "execution_count": 14,
   "id": "719662b5",
   "metadata": {},
   "outputs": [
    {
     "name": "stdout",
     "output_type": "stream",
     "text": [
      "1024\n",
      "1048576\n",
      "1073741824\n",
      "1099511627776\n",
      "1125899906842624\n"
     ]
    }
   ],
   "source": [
    "a = 2 ** 10\n",
    "b = 2 ** 20\n",
    "c = 2 ** 30\n",
    "d = 2 ** 40\n",
    "e = 2 ** 50\n",
    "print(a)\n",
    "print(b)\n",
    "print(c)\n",
    "print(d)\n",
    "print(e)"
   ]
  },
  {
   "cell_type": "markdown",
   "id": "f3fcff7f",
   "metadata": {},
   "source": [
    "# 第二题\n",
    "确实增长的很快，因为每一个相对于前一个都乘了1024"
   ]
  },
  {
   "cell_type": "code",
   "execution_count": 59,
   "id": "bf0a4d7a",
   "metadata": {},
   "outputs": [
    {
     "name": "stdout",
     "output_type": "stream",
     "text": [
      "方案1:\n",
      "农夫带羊过河\n",
      "农夫返回\n",
      "农夫带狼过河\n",
      "农夫带羊返回\n",
      "农夫带菜过河\n",
      "农夫返回\n",
      "农夫带羊过河\n",
      "结束\n",
      "方案2:\n",
      "农夫带羊过河\n",
      "农夫返回\n",
      "农夫带菜过河\n",
      "农夫带羊返回\n",
      "农夫带狼过河\n",
      "农夫返回\n",
      "农夫带羊过河\n",
      "结束\n"
     ]
    }
   ],
   "source": [
    "#0:人 1:狼 2:羊 3:菜\n",
    "#转化为类似八皇后问题，但是偶数行表示从a到b，奇数行表示从b到a，且前后两行不可以同时为1（不能把一个东西带来带去）\n",
    "#从a到b不考虑空手，因为没有意义，但是从b到a，可以空手，因为去接下一个\n",
    "def sum_list(a):\n",
    "    leng = len(a)\n",
    "    sum = 0\n",
    "    for i in range(leng):\n",
    "        sum += a[i]\n",
    "    return sum\n",
    "def conflict(a):\n",
    "    if a[1] == 1 and a[2] == 1 and a[3] == 1:\n",
    "        return 3\n",
    "    elif a[1] == 1 and a[2] == 1:\n",
    "        return 1\n",
    "    elif a[2] == 1 and a[3] == 1:\n",
    "        return 2\n",
    "    else:\n",
    "        return 0\n",
    "\n",
    "def status(a, b, s, i, t):\n",
    "    if sum_list(a) == 0:\n",
    "        return\n",
    "    if i % 2 == 1:\n",
    "        if conflict(b) == 0:  #不冲突就农夫一个人回去\n",
    "            a[0] = 1\n",
    "            b[0] = 0\n",
    "            s[i][0 + 4 * t] = 1\n",
    "        elif conflict(b) == 1:  #如果同时有狼和羊\n",
    "            if s[i - 1][1 + 4 * t] != 0:\n",
    "                s[i][2 + 4 * t] = 1\n",
    "                b[2] = 0\n",
    "                a[2] = 1\n",
    "                b[0] = 0\n",
    "                a[0] = 1\n",
    "            else:\n",
    "                s[i][1 + 4 * t] = 1\n",
    "                b[1] = 0\n",
    "                a[1] = 1\n",
    "                b[0] = 0\n",
    "                a[0] = 1\n",
    "        elif conflict(b) == 2:  #如果同时有羊和草\n",
    "            if s[i - 1][2 + 4 * t] != 0:\n",
    "                s[i][3 + 4 * t] = 1\n",
    "                b[3] = 0\n",
    "                a[3] = 1\n",
    "                b[0] = 0\n",
    "                a[0] = 1\n",
    "            else:\n",
    "                s[i][2 + 4 * t] = 1\n",
    "                b[2] = 0\n",
    "                a[2] = 1\n",
    "                b[0] = 0\n",
    "                a[0] = 1\n",
    "        status(a, b, s, i + 1, t)\n",
    "    else:\n",
    "        if conflict(a) == 0:  #不冲突\n",
    "            if a[1] == 1 and a[3] == 1:\n",
    "                s[i][1 + 4 * t] = 1\n",
    "                a[1] = 0\n",
    "                b[1] = 1\n",
    "                a[0] = 0\n",
    "                b[0] = 1\n",
    "                status(a, b, s, i + 1, t)\n",
    "                t += 1\n",
    "                a[1] = 1\n",
    "                b[1] = 0\n",
    "                s[i][3 + 4 * t] = 1\n",
    "                a[3] = 0\n",
    "                b[3] = 1\n",
    "                status(a, b, s, i + 1, t)\n",
    "            elif a[1] == 1:\n",
    "                s[i][1 + 4 * t] = 1\n",
    "                a[1] = 0\n",
    "                b[1] = 1\n",
    "                a[0] = 0\n",
    "                b[0] = 1\n",
    "                status(a, b, s, i + 1, t)\n",
    "            elif a[3] == 1:\n",
    "                s[i][3 + 4 * t] = 1\n",
    "                a[3] = 0\n",
    "                b[3] = 1\n",
    "                a[0] = 0\n",
    "                b[0] = 1\n",
    "                status(a, b, s, i + 1, t)\n",
    "            else:\n",
    "                s[i][2 + 4 * t] = 1\n",
    "                a[2] = 0\n",
    "                b[2] = 1\n",
    "                a[0] = 0\n",
    "                b[0] = 1\n",
    "                status(a, b, s, i + 1, t)\n",
    "        elif conflict(a) == 1:  #如果同时有狼和羊\n",
    "            if s[i - 1][1 + 4 * t] != 0:\n",
    "                s[i][2 + 4 * t] = 1\n",
    "                a[2] = 0\n",
    "                b[2] = 1\n",
    "                a[0] = 0\n",
    "                b[0] = 1\n",
    "            else:\n",
    "                s[i][1 + 4 * t] = 1\n",
    "                a[1] = 0\n",
    "                b[1] = 1\n",
    "                a[0] = 0\n",
    "                b[0] = 1\n",
    "            status(a, b, s, i + 1, t)\n",
    "        elif conflict(a) == 2:  #如果同时有羊和草\n",
    "            if s[i - 1][2 + 4 * t] != 0:\n",
    "                s[i][3 + 4 * t] = 1\n",
    "                a[3] = 0\n",
    "                b[3] = 1\n",
    "                a[0] = 0\n",
    "                b[0] = 1\n",
    "            else:\n",
    "                s[i][2 + 4 * t] = 1\n",
    "                a[2] = 0\n",
    "                b[2] = 1\n",
    "                a[0] = 0\n",
    "                b[0] = 1\n",
    "            status(a, b, s, i + 1, t)\n",
    "        elif conflict(a) == 3:\n",
    "            s[i][2] = 1\n",
    "            a[2] = 0\n",
    "            b[2] = 1\n",
    "            a[0] = 0\n",
    "            b[0] = 1\n",
    "            status(a, b, s, i + 1, t)\n",
    "s = []\n",
    "for i in range(100):\n",
    "    s.append([])\n",
    "    for j in range(100):\n",
    "        s[i].append(0)\n",
    "a = [1, 1, 1, 1]\n",
    "b = [0, 0, 0, 0]\n",
    "# s[0][2] = 1  #第一步一定是带羊过河\n",
    "# a[0] = 0\n",
    "# a[2] = 0\n",
    "# b[0] = 1\n",
    "# b[2] = 1\n",
    "status(a, b, s, 0, 0)\n",
    "max = 0\n",
    "for i in range(100):\n",
    "    count = 0\n",
    "    for j in range(100):\n",
    "        if s[i][j] == 1:\n",
    "            count += 1\n",
    "    if count > max:\n",
    "        max = count\n",
    "p = 0\n",
    "while max > p:\n",
    "    print(\"方案%d:\" %(p+1))\n",
    "    for i in range(0, 10, 1):\n",
    "        index = 0\n",
    "        for j in range(0 + 4 * p, 4 + 4 * p, 1):\n",
    "            if s[i][j] != 0:\n",
    "                index = 1\n",
    "                if j == 0 + 4 * p:\n",
    "                    print(\"农夫返回\")\n",
    "                else:\n",
    "                    if i % 2 == 0:\n",
    "                        if j == 1 + 4 * p:\n",
    "                            print(\"农夫带狼过河\")\n",
    "                        elif j == 2 + 4 * p:\n",
    "                            print(\"农夫带羊过河\")\n",
    "                        else:\n",
    "                            print(\"农夫带菜过河\")\n",
    "                    else:\n",
    "                        if j == 1 + 4 * p:\n",
    "                            print(\"农夫带狼返回\")\n",
    "                        elif j == 2 + 4 * p:\n",
    "                            print(\"农夫带羊返回\")\n",
    "                        else:\n",
    "                            print(\"农夫带菜返回\")\n",
    "        if index == 0 and p > 0:\n",
    "            ano_index = 0\n",
    "            q = 4 * p - 4\n",
    "            while ano_index == 0:\n",
    "                for j in range(q, q + 4, 1):\n",
    "                    if s[i][j] != 0:\n",
    "                        ano_index = 1\n",
    "                        index = 1\n",
    "                        if j == q:\n",
    "                            print(\"农夫返回\")\n",
    "                        else:\n",
    "                            if i % 2 == 0:\n",
    "                                if j == q + 1:\n",
    "                                    print(\"农夫带狼过河\")\n",
    "                                elif j == q + 2:\n",
    "                                    print(\"农夫带羊过河\")\n",
    "                                else:\n",
    "                                    print(\"农夫带菜过河\")\n",
    "                            else:\n",
    "                                if j == q + 1:\n",
    "                                    print(\"农夫带狼返回\")\n",
    "                                elif j == q + 2:\n",
    "                                    print(\"农夫带羊返回\")\n",
    "                                else:\n",
    "                                    print(\"农夫带菜返回\")\n",
    "                if q > 0:\n",
    "                    q = q - 4\n",
    "                else:\n",
    "                    break\n",
    "    p += 1\n",
    "    print(\"结束\")"
   ]
  },
  {
   "cell_type": "code",
   "execution_count": 1,
   "id": "d4b3d21f",
   "metadata": {},
   "outputs": [
    {
     "name": "stdout",
     "output_type": "stream",
     "text": [
      "找到解决方案： [(1, 1, 1, 1), (0, 1, 0, 1), (1, 1, 0, 1), (0, 0, 0, 1), (1, 0, 1, 1), (0, 0, 1, 0), (1, 0, 1, 0), (0, 0, 0, 0)]\n",
      "找到解决方案： [(1, 1, 1, 1), (0, 1, 0, 1), (1, 1, 0, 1), (0, 1, 0, 0), (1, 1, 1, 0), (0, 0, 1, 0), (1, 0, 1, 0), (0, 0, 0, 0)]\n"
     ]
    }
   ],
   "source": [
    "#助教上课讲的方法\n",
    "def is_valid_state(state):\n",
    "    # 检查是否有不安全的状态，即狼吃羊或羊吃菜\n",
    "    if (state[1] == state[2] and state[0] != state[1]) or (state[2] == state[3] and state[0] != state[2]):\n",
    "        return False\n",
    "    return True\n",
    "\n",
    "def dfs(state, path, visited):\n",
    "    if state == (0, 0, 0, 0):\n",
    "        # 找到了解决方案\n",
    "        print(\"找到解决方案：\", path)\n",
    "        return\n",
    "\n",
    "    for move in moves:\n",
    "        new_state = tuple(state[i] + move[i] for i in range(4))\n",
    "        if all(0 <= new_state[i] <= 1 for i in range(4)) and is_valid_state(new_state) and new_state not in visited:\n",
    "            visited.add(new_state)\n",
    "            dfs(new_state, path + [new_state], visited)\n",
    "            visited.remove(new_state)\n",
    "\n",
    "# 初始状态：(1, 1, 1, 1) 表示人、狼、羊、菜都在起始岸\n",
    "initial_state = (1, 1, 1, 1)\n",
    "# 移动方式\n",
    "moves = [\n",
    "    (-1, 0, 0, 0), \n",
    "    (-1, -1, 0, 0),\n",
    "    (-1, 0, -1, 0),\n",
    "    (-1, 0, 0, -1),\n",
    "    (1, 0, 0, 0),\n",
    "    (1, 1, 0, 0),\n",
    "    (1, 0, 1, 0),\n",
    "    (1, 0, 0, 1)\n",
    "]\n",
    "\n",
    "visited = set()\n",
    "visited.add(initial_state)\n",
    "\n",
    "dfs(initial_state, [initial_state], visited)"
   ]
  },
  {
   "cell_type": "code",
   "execution_count": 4,
   "id": "b21ee91d",
   "metadata": {},
   "outputs": [
    {
     "name": "stdout",
     "output_type": "stream",
     "text": [
      "input: num = 2\n",
      "2的平方根是1.414180\n"
     ]
    }
   ],
   "source": [
    "#“笨办法”求平方根\n",
    "def Square_root_1(c):\n",
    "    g1 = 0\n",
    "    for g1 in range(0, c+1, 1):\n",
    "        if g1 * g1 > c:\n",
    "            g = g1 - 1\n",
    "            break\n",
    "    while abs(g * g - c) > 0.0001:\n",
    "        g += 0.00001\n",
    "    print(\"%d的平方根是%f\" %(c, g))\n",
    "c = int(input(\"input: num = \"))\n",
    "Square_root_1(c)"
   ]
  },
  {
   "cell_type": "code",
   "execution_count": 5,
   "id": "918a9ea3",
   "metadata": {},
   "outputs": [
    {
     "name": "stdout",
     "output_type": "stream",
     "text": [
      "input: num = 2\n",
      "2的平方根是1.414214\n"
     ]
    }
   ],
   "source": [
    "#“牛顿法”求平方根\n",
    "def Square_root_3(c):\n",
    "    g = c / 2\n",
    "    while abs(g * g - c) > 0.00000000001:\n",
    "        g = (g + c / g) / 2\n",
    "    print(\"%d的平方根是%f\" %(c, g))\n",
    "c = int(input(\"input: num = \"))\n",
    "Square_root_3(c)"
   ]
  },
  {
   "cell_type": "code",
   "execution_count": 6,
   "id": "8ac1cbec",
   "metadata": {},
   "outputs": [
    {
     "name": "stdout",
     "output_type": "stream",
     "text": [
      "input: num = 2000\n",
      "2000的平方根是44.721360\n"
     ]
    }
   ],
   "source": [
    "#“牛顿法”求平方根\n",
    "def Square_root_3(c):\n",
    "    g = c / 2\n",
    "    while abs(g * g - c) > 0.00000000001:\n",
    "        g = (g + c / g) / 2\n",
    "    print(\"%d的平方根是%f\" %(c, g))\n",
    "c = int(input(\"input: num = \"))\n",
    "Square_root_3(c)"
   ]
  },
  {
   "cell_type": "markdown",
   "id": "379c0771",
   "metadata": {},
   "source": [
    "# 第五题\n",
    "把C设置成2或2000等不同的值时，运行结果为各自的平方根"
   ]
  },
  {
   "cell_type": "code",
   "execution_count": 7,
   "id": "681f6786",
   "metadata": {},
   "outputs": [
    {
     "name": "stdout",
     "output_type": "stream",
     "text": [
      "input: num = 2\n",
      "2的平方根是1.414214\n"
     ]
    }
   ],
   "source": [
    "#“牛顿法”求平方根 (修改g = c)\n",
    "def Square_root_3(c):\n",
    "    g = c\n",
    "    while abs(g * g - c) > 0.00000000001:\n",
    "        g = (g + c / g) / 2\n",
    "    print(\"%d的平方根是%f\" %(c, g))\n",
    "c = int(input(\"input: num = \"))\n",
    "Square_root_3(c)"
   ]
  },
  {
   "cell_type": "code",
   "execution_count": 9,
   "id": "35fd6d83",
   "metadata": {},
   "outputs": [
    {
     "name": "stdout",
     "output_type": "stream",
     "text": [
      "input: num = 2\n",
      "2的平方根是1.414214\n"
     ]
    }
   ],
   "source": [
    "#“牛顿法”求平方根 (修改g = c / 4)\n",
    "def Square_root_3(c):\n",
    "    g = c / 4\n",
    "    while abs(g * g - c) > 0.00000000001:\n",
    "        g = (g + c / g) / 2\n",
    "    print(\"%d的平方根是%f\" %(c, g))\n",
    "c = int(input(\"input: num = \"))\n",
    "Square_root_3(c)"
   ]
  },
  {
   "cell_type": "markdown",
   "id": "c4293f7a",
   "metadata": {},
   "source": [
    "# 第六题\n",
    "把起始值改成g = c或g = c / 4对结果没有影响"
   ]
  },
  {
   "cell_type": "code",
   "execution_count": 14,
   "id": "982dfc1a",
   "metadata": {},
   "outputs": [
    {
     "name": "stdout",
     "output_type": "stream",
     "text": [
      "input: num = 10\n",
      "10的三次方根是2.154435\n"
     ]
    }
   ],
   "source": [
    "#“牛顿法”求三次方根\n",
    "def Square_root_4(c):\n",
    "    g = c / 2\n",
    "    while abs(g * g * g - c) > 0.00000000001:\n",
    "        g = (c + 2 * g * g * g) / (3 * g * g)\n",
    "    print(\"%d的三次方根是%f\" %(c, g))\n",
    "c = int(input(\"input: num = \"))\n",
    "Square_root_4(c)"
   ]
  },
  {
   "cell_type": "markdown",
   "id": "9474bb5c",
   "metadata": {},
   "source": [
    "# 第七题\n",
    "三次方根的牛顿迭代式为：  \n",
    "$$\n",
    "g = (c + 2 * g ^ 3) / (3 * g ^ 2)\n",
    "$$"
   ]
  },
  {
   "cell_type": "code",
   "execution_count": 4,
   "id": "1bf5e40c",
   "metadata": {
    "scrolled": true
   },
   "outputs": [
    {
     "name": "stdout",
     "output_type": "stream",
     "text": [
      "蒙特卡洛法求得的pi值为：3.1412280000\n",
      "程序运行的时间为：0.1489284039(s)\n"
     ]
    }
   ],
   "source": [
    "#求pi的值\n",
    "#方法一：蒙特卡洛方法\n",
    "import time\n",
    "import math\n",
    "import random\n",
    "time_start = time.time()\n",
    "def Monte_Carlo(n):\n",
    "    inCircle = 0\n",
    "    for i in range(n):\n",
    "        x = random.random()\n",
    "        y = random.random()\n",
    "        if x * x + y * y <= 1:\n",
    "            inCircle += 1\n",
    "    return 4 * inCircle / n\n",
    "my_pi = Monte_Carlo(1000000)\n",
    "print(\"蒙特卡洛法求得的pi值为：%.10f\" %my_pi)\n",
    "time_end = time.time()\n",
    "time_sum = time_end - time_start\n",
    "print(\"程序运行的时间为：%.10f(s)\" %time_sum)"
   ]
  },
  {
   "cell_type": "code",
   "execution_count": 3,
   "id": "4cd27db0",
   "metadata": {},
   "outputs": [
    {
     "name": "stdout",
     "output_type": "stream",
     "text": [
      "莱布尼茨级数求得的pi值为：3.1415936536\n",
      "程序运行的时间为：0.4012241364(s)\n"
     ]
    }
   ],
   "source": [
    "#求pi的值\n",
    "#方法二：莱布尼茨级数\n",
    "import time\n",
    "import math\n",
    "time_start = time.time()\n",
    "i = 1\n",
    "t = 1\n",
    "while abs(4 * t - math.pi) > 0.000001:\n",
    "    t += (-1) ** i / (2 * i + 1)\n",
    "    i += 1\n",
    "my_pi = 4 * t\n",
    "print(\"莱布尼茨级数求得的pi值为：%.10f\" %my_pi)\n",
    "time_end = time.time()\n",
    "time_sum = time_end - time_start\n",
    "print(\"程序运行的时间为：%.10f(s)\" %time_sum)"
   ]
  },
  {
   "cell_type": "code",
   "execution_count": 2,
   "id": "c568ca38",
   "metadata": {},
   "outputs": [
    {
     "name": "stdout",
     "output_type": "stream",
     "text": [
      "欧拉级数求得的pi值为：3.1415924944\n",
      "程序运行的时间为：2.4496350288(s)\n"
     ]
    }
   ],
   "source": [
    "#求pi的值\n",
    "#方法三：欧拉级数\n",
    "import time\n",
    "import math\n",
    "time_start = time.time()\n",
    "i = 1\n",
    "t = 1\n",
    "while abs(6 * t - math.pi ** 2) > 0.000001:\n",
    "    t += 1 / (i + 1) ** 2\n",
    "    i += 1\n",
    "my_pi = (6 * t) ** 0.5\n",
    "print(\"欧拉级数求得的pi值为：%.10f\" %my_pi)\n",
    "time_end = time.time()\n",
    "time_sum = time_end - time_start\n",
    "print(\"程序运行的时间为：%.10f(s)\" %time_sum)"
   ]
  },
  {
   "cell_type": "code",
   "execution_count": 28,
   "id": "321f88bf",
   "metadata": {},
   "outputs": [
    {
     "name": "stdout",
     "output_type": "stream",
     "text": [
      "正多边形逼近法求得的pi值为：3.1415926536\n",
      "程序运行的时间为：0.0001420975(s)\n"
     ]
    }
   ],
   "source": [
    "#利用正多边形逼近法求pi\n",
    "#设圆的直径为1\n",
    "import time\n",
    "import math\n",
    "def equ_pily(n, a, r):\n",
    "    a1 = a\n",
    "    a = math.sqrt((r - math.sqrt(r ** 2 - a1 ** 2 / 4)) ** 2 + a1 ** 2 / 4)\n",
    "    while abs(a1 - a) > 0.000001:\n",
    "        a1 = a\n",
    "        a = math.sqrt((r - math.sqrt(r ** 2 - a1 ** 2 / 4)) ** 2 + a1 ** 2 / 4)\n",
    "        n += 1\n",
    "    my_pi = a * 12 * (2 ** n)\n",
    "    return my_pi\n",
    "time_start = time.time()\n",
    "my_pi = equ_pily(0, 0.5, 0.5)\n",
    "print(\"正多边形逼近法求得的pi值为：%.10f\" %my_pi)\n",
    "time_end = time.time()\n",
    "time_sum = time_end - time_start\n",
    "print(\"程序运行的时间为：%.10f(s)\" %time_sum)"
   ]
  },
  {
   "cell_type": "markdown",
   "id": "6060aeda",
   "metadata": {},
   "source": [
    "# 第八题\n",
    "一共用了四种方法求了$\\pi$的值，我使用了比较运行时间来比较它们的效率，结果发现，正多边形逼近法效率最高，得到的数据也最准确一些，蒙特卡洛模拟的方法，由于其数据量的限制，得到的答案比起其他三种方法，没那么精准。"
   ]
  },
  {
   "cell_type": "code",
   "execution_count": 52,
   "id": "9e163f5e",
   "metadata": {},
   "outputs": [
    {
     "name": "stdout",
     "output_type": "stream",
     "text": [
      "利用蒙特卡洛求得的定积分值为:11.81205711\n"
     ]
    }
   ],
   "source": [
    "#利用蒙特卡洛求定积分\n",
    "import math\n",
    "n = 10 ** 8\n",
    "sum = 0\n",
    "p = n\n",
    "while p > 0:\n",
    "    p -= 1\n",
    "    x = random.random()\n",
    "    y = random.random()\n",
    "    if y <= 1 / 21 * ((2 + x) ** 2 + 4 * (2 + x) * math.sin(2 + x)):\n",
    "        sum += 1\n",
    "ans = 21 * sum / (10 ** 8)\n",
    "print(\"利用蒙特卡洛求得的定积分值为:%.8f\" %ans)"
   ]
  },
  {
   "cell_type": "code",
   "execution_count": null,
   "id": "29078b1b",
   "metadata": {},
   "outputs": [],
   "source": []
  }
 ],
 "metadata": {
  "kernelspec": {
   "display_name": "Python 3 (ipykernel)",
   "language": "python",
   "name": "python3"
  },
  "language_info": {
   "codemirror_mode": {
    "name": "ipython",
    "version": 3
   },
   "file_extension": ".py",
   "mimetype": "text/x-python",
   "name": "python",
   "nbconvert_exporter": "python",
   "pygments_lexer": "ipython3",
   "version": "3.10.9"
  }
 },
 "nbformat": 4,
 "nbformat_minor": 5
}
