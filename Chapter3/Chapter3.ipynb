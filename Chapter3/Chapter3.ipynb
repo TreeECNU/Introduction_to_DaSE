{
 "cells": [
  {
   "cell_type": "code",
   "execution_count": 2,
   "id": "db821c35",
   "metadata": {},
   "outputs": [
    {
     "name": "stdout",
     "output_type": "stream",
     "text": [
      "input : 110.75\n",
      "转化成的二进制数为：1101110.11"
     ]
    }
   ],
   "source": [
    "#十进制小数转换成二进制小数\n",
    "def trans_decimal_binary(num, bina):\n",
    "    if num < 0:\n",
    "        sym = -1\n",
    "    else:\n",
    "        sym = 1\n",
    "    inte = int(sym * num)\n",
    "    frac = sym * num - inte\n",
    "    while inte > 0:\n",
    "        bina.append(inte % 2)\n",
    "        inte = inte // 2\n",
    "    bina = list(reversed(bina))\n",
    "    bina.append('.')\n",
    "    while frac > 0:\n",
    "        terminal = int(frac * 2)\n",
    "        bina.append(terminal)\n",
    "        frac = frac * 2 - terminal\n",
    "    print(\"转化成的二进制数为：\", end = '')\n",
    "    for i in range(0, len(bina), 1):\n",
    "        print(bina[i], end = '')\n",
    "num = float(input(\"input : \"))\n",
    "bina = []\n",
    "trans_decimal_binary(num, bina)\n",
    "    "
   ]
  },
  {
   "cell_type": "code",
   "execution_count": 36,
   "id": "d3dd61c3",
   "metadata": {},
   "outputs": [
    {
     "name": "stdout",
     "output_type": "stream",
     "text": [
      "17.66683734401152\n"
     ]
    }
   ],
   "source": [
    "#产生10-20的随机浮点数\n",
    "import random\n",
    "a = random.uniform(10, 20)\n",
    "print(a)"
   ]
  },
  {
   "cell_type": "code",
   "execution_count": 27,
   "id": "18a1fd7c",
   "metadata": {},
   "outputs": [
    {
     "name": "stdout",
     "output_type": "stream",
     "text": [
      "input = 320683200308140419\n",
      "278\n",
      "3\n",
      "success\n"
     ]
    }
   ],
   "source": [
    "#正则表达式(^\\d{15}$)|(^\\d{17}([0-9]|x)$)\n",
    "#简单验证18位身份证的校验位\n",
    "#7－9－10－5－8－4－2－1－6－3－7－9－10－5－8－4－2\n",
    "rule = [1, 0, 10, 9, 8, 7, 6, 5, 4, 3, 2, 1]\n",
    "import re\n",
    "def ID_card(line):\n",
    "    line2 = re.match(r'(^\\d{15}$)|(^\\d{17}([0-9]|x)$)', line)\n",
    "    if line2 == None:\n",
    "        print(\"failure\")\n",
    "    else:\n",
    "        if len(line) == 15:\n",
    "            print(\"success\")\n",
    "        elif len(line) == 18:\n",
    "            sum = int(line[0]) * 7 + int(line[1]) * 9 + int(line[2]) * 10 + int(line[3]) * 5 + int(line[4]) * 8 + int(\n",
    "                line[5]) * 4 + int(line[6]) * 2 + int(line[7]) * 1 + int(line[8]) * 6 + int(line[9]) * 3 + int(line[10]) * 7 + int(\n",
    "                line[11]) * 9 + int(line[12]) * 10 + int(line[13]) * 5 + int(line[14]) * 8 + int(line[15]) * 4 + int(line[16]) * 2\n",
    "            sum = sum % 11\n",
    "            if line[17] == 'x':\n",
    "                if sum == 2:\n",
    "                    print(\"success\")\n",
    "                else:\n",
    "                    print(\"failure\")\n",
    "            else:\n",
    "                if rule[sum] == int(line[17]):\n",
    "                    print(\"success\")\n",
    "                else:\n",
    "                    print(\"failure\")\n",
    "line = input(\"input = \")\n",
    "ID_card(line)"
   ]
  },
  {
   "cell_type": "code",
   "execution_count": 73,
   "id": "da8d75aa",
   "metadata": {},
   "outputs": [
    {
     "name": "stdout",
     "output_type": "stream",
     "text": [
      "(0, 3)\n",
      "None\n"
     ]
    }
   ],
   "source": [
    "#re.match的学习\n",
    "import re\n",
    "print(re.match('www', 'www.runoob.com').span())  # 在起始位置匹配\n",
    "print(re.match('com', 'www.runoob.com'))         # 不在起始位置匹配"
   ]
  },
  {
   "cell_type": "code",
   "execution_count": 31,
   "id": "bd18ef98",
   "metadata": {},
   "outputs": [
    {
     "name": "stdout",
     "output_type": "stream",
     "text": [
      "请输入操作总数：4\n",
      "请输入以下操作：1.头增，2.尾增，3.删，4.改，5.查1\n",
      "请输入增加的数字：6\n",
      "请输入以下操作：1.头增，2.尾增，3.删，4.改，5.查2\n",
      "请输入增加的数字：9\n",
      "请输入以下操作：1.头增，2.尾增，3.删，4.改，5.查3\n",
      "请输入删除的数字：6\n",
      "请输入以下操作：1.头增，2.尾增，3.删，4.改，5.查5\n",
      "请输入查询的数字：8\n",
      "Not Found\n",
      "9\n"
     ]
    }
   ],
   "source": [
    "#实现链表\n",
    "class LinkNode:\n",
    "    \n",
    "    def __init__(self, value_):\n",
    "        self.value_ = value_\n",
    "        self.next_ = None\n",
    "\n",
    "class LinkList:\n",
    "    \n",
    "    def __init__(self):\n",
    "        self.head_ = None\n",
    "    \n",
    "    def is_empty_(self):\n",
    "        if self.head_ == None:\n",
    "            return 1\n",
    "        else:\n",
    "            return 0\n",
    "    \n",
    "    def length_(self):\n",
    "        node = self.head_\n",
    "        length = 0\n",
    "        while node != None:\n",
    "            length += 1\n",
    "            node = node.next_\n",
    "        return length\n",
    "    \n",
    "    def traverse_(self):\n",
    "        node = self.head_\n",
    "        while node != None:\n",
    "            print(node.value_)\n",
    "            node = node.next_\n",
    "    \n",
    "    def insert_(self, value_, way_):\n",
    "        node = LinkNode(value_)\n",
    "        if way_ == 'head':\n",
    "            node.next_ = self.head_\n",
    "            self.head_ = node\n",
    "        elif way_ == 'tail':\n",
    "            if self.head_ == None:\n",
    "                self.head_ = node\n",
    "            else:\n",
    "                node1 = self.head_\n",
    "                while node1.next_ != None:\n",
    "                    node1 = node1.next_\n",
    "                node1.next_ = node\n",
    "        \n",
    "    def delete_(self, value_):\n",
    "        node = self.head_\n",
    "        if node.value_ == value_:\n",
    "            self.head_ = node.next_\n",
    "        else:\n",
    "            node1 = node.next_\n",
    "            while node1 != value_:\n",
    "                node = node.next_\n",
    "                node1 = node.next_\n",
    "            node.next_ = node1.next_\n",
    "    \n",
    "    def modify_(self, value_1, value_2):\n",
    "        node = self.head_\n",
    "        while node.value_ != value_1:\n",
    "            node = node.next_\n",
    "        node.value_ = value_2\n",
    "    \n",
    "    def search_(self, value_):\n",
    "        node = self.head_\n",
    "        while node != None:\n",
    "            if node.value_ == value_:\n",
    "                break\n",
    "            else:\n",
    "                node = node.next_\n",
    "        if node == None:\n",
    "            print(\"Not Found\")\n",
    "        else:\n",
    "            print(\"Found It\")\n",
    "\n",
    "My_link = LinkList()\n",
    "a = int(input(\"请输入操作总数：\"))\n",
    "while a > 0:\n",
    "    a -= 1\n",
    "    b = int(input(\"请输入以下操作：1.头增，2.尾增，3.删，4.改，5.查\"))\n",
    "    if b == 1:\n",
    "        c = int(input(\"请输入增加的数字：\"))\n",
    "        My_link.insert_(c, 'head')\n",
    "    elif b == 2:\n",
    "        c = int(input(\"请输入增加的数字：\"))\n",
    "        My_link.insert_(c, 'tail')\n",
    "    elif b == 3:\n",
    "        c = int(input(\"请输入删除的数字：\"))\n",
    "        My_link.delete_(c)\n",
    "    elif b == 4:\n",
    "        c = int(input(\"请输入改变的原数字：\"))\n",
    "        d = int(input(\"请输入改变的新数字：\"))\n",
    "        My_link.modify_(c, d)\n",
    "    elif b == 5:\n",
    "        c = int(input(\"请输入查询的数字：\"))\n",
    "        My_link.search_(c)\n",
    "My_link.traverse_()"
   ]
  },
  {
   "cell_type": "code",
   "execution_count": 30,
   "id": "6b03e577",
   "metadata": {},
   "outputs": [
    {
     "name": "stdout",
     "output_type": "stream",
     "text": [
      "1到100之间的偶数为： 2 4 6 8 10 12 14 16 18 20 22 24 26 28 30 32 34 36 38 40 42 44 46 48 50 52 54 56 58 60 62 64 66 68 70 72 74 76 78 80 82 84 86 88 90 92 94 96 98 100 "
     ]
    }
   ],
   "source": [
    "#输出1到100之间的偶数\n",
    "print(\"1到100之间的偶数为：\", end = ' ')\n",
    "for i in range(1, 101, 1):\n",
    "    if i % 2 == 0:\n",
    "        print(i, end = ' ')"
   ]
  },
  {
   "cell_type": "code",
   "execution_count": 43,
   "id": "df645627",
   "metadata": {},
   "outputs": [
    {
     "name": "stdout",
     "output_type": "stream",
     "text": [
      "input : 100\n",
      "优秀\n"
     ]
    }
   ],
   "source": [
    "#实现百分制转等级\n",
    "def grade_conversion(score):\n",
    "    if score < 60:\n",
    "        print(\"不合格\")\n",
    "    elif score >= 60 and score <= 74:\n",
    "        print(\"合格\")\n",
    "    elif score >= 75 and score <= 89:\n",
    "        print(\"良好\")\n",
    "    elif score >= 90:\n",
    "        print(\"优秀\")\n",
    "score = int(input(\"input : \"))\n",
    "grade_conversion(score)"
   ]
  },
  {
   "cell_type": "code",
   "execution_count": 47,
   "id": "e85a19af",
   "metadata": {},
   "outputs": [
    {
     "name": "stdout",
     "output_type": "stream",
     "text": [
      "input num1 = 45\n",
      "input num2 = 1\n",
      "最大公约数为：1\n"
     ]
    }
   ],
   "source": [
    "#求两个正整数的最大公约数\n",
    "def gcd(num1, num2):\n",
    "    if num1 <= num2:\n",
    "        ter = num1\n",
    "    else:\n",
    "        ter = num2\n",
    "    for i in range(ter, 0, -1):\n",
    "        if num1 % i == 0 and num2 % i == 0:\n",
    "            return i\n",
    "num1 = int(input(\"input num1 = \"))\n",
    "num2 = int(input(\"input num2 = \"))\n",
    "print(\"最大公约数为：\" , end = '')\n",
    "print(gcd(num1, num2))"
   ]
  },
  {
   "cell_type": "code",
   "execution_count": 37,
   "id": "c536de17",
   "metadata": {},
   "outputs": [
    {
     "name": "stdout",
     "output_type": "stream",
     "text": [
      "sum = 500时：\n",
      "The time of selection sort is: 0.0127027035(s)\n",
      "The time of merge sort is: 0.0040004253(s)\n",
      "sum = 1000时：\n",
      "The time of selection sort is: 0.0343618393(s)\n",
      "The time of merge sort is: 0.0156829357(s)\n",
      "sum = 5000时：\n",
      "The time of selection sort is: 0.5568466187(s)\n",
      "The time of merge sort is: 0.0276722908(s)\n",
      "sum = 10000时：\n",
      "The time of selection sort is: 2.4182920456(s)\n",
      "The time of merge sort is: 0.0440447330(s)\n"
     ]
    }
   ],
   "source": [
    "#不同排序算法的运行效果\n",
    "import time\n",
    "import random\n",
    "\n",
    "def selection_sort(A):\n",
    "    for i in range(0, len(A), 1):\n",
    "        min = A[i]\n",
    "        p = i\n",
    "        for j in range(i + 1, len(A), 1):\n",
    "            if min > A[j]:\n",
    "                min = A[j]\n",
    "                p = j\n",
    "        A[i],A[p] = A[p],A[i]\n",
    "\n",
    "def merge(A, B, la, lb, C):\n",
    "    i = 0\n",
    "    j = 0\n",
    "    for k in range(0, la + lb, 1):\n",
    "        if A[i] < B[j]:\n",
    "            C[k] = A[i]\n",
    "            i += 1\n",
    "        else:\n",
    "            C[k] = B[j]\n",
    "            j += 1\n",
    "        if i >= la or j >= lb:\n",
    "            break\n",
    "    k = k + 1\n",
    "    while i < la:\n",
    "        C[k] = A[i]\n",
    "        i += 1\n",
    "        k += 1\n",
    "    while j < lb:\n",
    "        C[k] = B[j]\n",
    "        j += 1\n",
    "        k += 1\n",
    "\n",
    "def merge_sort(C, lc):\n",
    "    if lc < 2:\n",
    "        return\n",
    "    mid = lc // 2\n",
    "    la = mid\n",
    "    lb = lc - la\n",
    "    A = []\n",
    "    B = []\n",
    "    for i in range(0, la, 1):\n",
    "        A.append(C[i])\n",
    "    for i in range(la, la + lb, 1):\n",
    "        B.append(C[i])\n",
    "    merge_sort(A, la)\n",
    "    merge_sort(B, lb)\n",
    "    merge(A, B, la, lb, C)\n",
    "    \n",
    "sum = 500\n",
    "A = []\n",
    "B = []\n",
    "for i in range(0, sum, 1):\n",
    "    t = random.uniform(1, 10 * sum)\n",
    "    A.append(t)\n",
    "B = A[:]\n",
    "\n",
    "print(\"sum = 500时：\")\n",
    "time_start1 = time.time()\n",
    "selection_sort(A)\n",
    "time_end1 = time.time()\n",
    "time_sum1 = time_end1 - time_start1\n",
    "print(\"The time of selection sort is: %.10f(s)\" %time_sum1)\n",
    "\n",
    "time_start2 = time.time()\n",
    "merge_sort(B, len(B))\n",
    "time_end2 = time.time()\n",
    "time_sum2 = time_end2 - time_start2\n",
    "print(\"The time of merge sort is: %.10f(s)\" %time_sum2)\n",
    "\n",
    "sum = 1000\n",
    "A = []\n",
    "B = []\n",
    "for i in range(0, sum, 1):\n",
    "    t = random.uniform(1, 10 * sum)\n",
    "    A.append(t)\n",
    "B = A[:]\n",
    "\n",
    "print(\"sum = 1000时：\")\n",
    "time_start1 = time.time()\n",
    "selection_sort(A)\n",
    "time_end1 = time.time()\n",
    "time_sum1 = time_end1 - time_start1\n",
    "print(\"The time of selection sort is: %.10f(s)\" %time_sum1)\n",
    "\n",
    "time_start2 = time.time()\n",
    "merge_sort(B, len(B))\n",
    "time_end2 = time.time()\n",
    "time_sum2 = time_end2 - time_start2\n",
    "print(\"The time of merge sort is: %.10f(s)\" %time_sum2)\n",
    "\n",
    "sum = 5000\n",
    "A = []\n",
    "B = []\n",
    "for i in range(0, sum, 1):\n",
    "    t = random.uniform(1, 10 * sum)\n",
    "    A.append(t)\n",
    "B = A[:]\n",
    "\n",
    "print(\"sum = 5000时：\")\n",
    "time_start1 = time.time()\n",
    "selection_sort(A)\n",
    "time_end1 = time.time()\n",
    "time_sum1 = time_end1 - time_start1\n",
    "print(\"The time of selection sort is: %.10f(s)\" %time_sum1)\n",
    "\n",
    "time_start2 = time.time()\n",
    "merge_sort(B, len(B))\n",
    "time_end2 = time.time()\n",
    "time_sum2 = time_end2 - time_start2\n",
    "print(\"The time of merge sort is: %.10f(s)\" %time_sum2)\n",
    "\n",
    "sum = 10000\n",
    "A = []\n",
    "B = []\n",
    "for i in range(0, sum, 1):\n",
    "    t = random.uniform(1, 10 * sum)\n",
    "    A.append(t)\n",
    "B = A[:]\n",
    "\n",
    "print(\"sum = 10000时：\")\n",
    "time_start1 = time.time()\n",
    "selection_sort(A)\n",
    "time_end1 = time.time()\n",
    "time_sum1 = time_end1 - time_start1\n",
    "print(\"The time of selection sort is: %.10f(s)\" %time_sum1)\n",
    "\n",
    "time_start2 = time.time()\n",
    "merge_sort(B, len(B))\n",
    "time_end2 = time.time()\n",
    "time_sum2 = time_end2 - time_start2\n",
    "print(\"The time of merge sort is: %.10f(s)\" %time_sum2)"
   ]
  },
  {
   "cell_type": "markdown",
   "id": "9437d3bc",
   "metadata": {},
   "source": [
    "# 第八题\n",
    "对于不同的排序算法，例如选择排序和归并排序，选择排序的时间复杂度是：$\\Theta(n ^ 2)$，归并排序的时间复杂度是：$\\Theta(n * lgn)$。通过所生成的数据可以看出，归并排序的运行时间快于选择排序的运行时间。"
   ]
  },
  {
   "cell_type": "code",
   "execution_count": 21,
   "id": "bf1ac56a",
   "metadata": {},
   "outputs": [
    {
     "name": "stdout",
     "output_type": "stream",
     "text": [
      "[24, 12, 8, 6]\n"
     ]
    }
   ],
   "source": [
    "#不使用除法构建数组B\n",
    "def create_B(A, B):\n",
    "    for i in range(0, len(A), 1):\n",
    "        cur = 1\n",
    "        for j in range(0, i, 1):\n",
    "            cur *= A[j]\n",
    "        for j in range(i + 1, len(A), 1):\n",
    "            cur *= A[j]\n",
    "        B.append(cur)\n",
    "A = [1, 2, 3, 4]\n",
    "B = []\n",
    "create_B(A, B)\n",
    "print(B)"
   ]
  },
  {
   "cell_type": "code",
   "execution_count": null,
   "id": "b7c65362",
   "metadata": {},
   "outputs": [],
   "source": []
  }
 ],
 "metadata": {
  "kernelspec": {
   "display_name": "Python 3 (ipykernel)",
   "language": "python",
   "name": "python3"
  },
  "language_info": {
   "codemirror_mode": {
    "name": "ipython",
    "version": 3
   },
   "file_extension": ".py",
   "mimetype": "text/x-python",
   "name": "python",
   "nbconvert_exporter": "python",
   "pygments_lexer": "ipython3",
   "version": "3.10.9"
  }
 },
 "nbformat": 4,
 "nbformat_minor": 5
}
