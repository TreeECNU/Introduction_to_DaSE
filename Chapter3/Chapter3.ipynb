{
 "cells": [
  {
   "cell_type": "code",
   "execution_count": 32,
   "id": "db821c35",
   "metadata": {},
   "outputs": [
    {
     "name": "stdout",
     "output_type": "stream",
     "text": [
      "input : 123.75\n",
      "转化成的二进制数为：1111011.11"
     ]
    }
   ],
   "source": [
    "def trans_decimal_binary(num, bina):\n",
    "    if num < 0:\n",
    "        sym = -1\n",
    "    else:\n",
    "        sym = 1\n",
    "    inte = int(sym * num)\n",
    "    frac = sym * num - inte\n",
    "    while inte > 0:\n",
    "        bina.append(inte % 2)\n",
    "        inte = inte // 2\n",
    "    bina = list(reversed(bina))\n",
    "    bina.append('.')\n",
    "    while frac > 0:\n",
    "        terminal = int(frac * 2)\n",
    "        bina.append(terminal)\n",
    "        frac = frac * 2 - terminal\n",
    "    print(\"转化成的二进制数为：\", end = '')\n",
    "    for i in range(0, len(bina), 1):\n",
    "        print(bina[i], end = '')   bbbbbbbbbbbbbbbbbbbbbbbbb\n",
    "num = float(input(\"input : \"))\n",
    "bina = []\n",
    "trans_decimal_binary(num, bina)\n",
    "    "
   ]
  },
  {
   "cell_type": "code",
   "execution_count": 36,
   "id": "d3dd61c3",
   "metadata": {},
   "outputs": [
    {
     "name": "stdout",
     "output_type": "stream",
     "text": [
      "17.66683734401152\n"
     ]
    }
   ],
   "source": [
    "import random\n",
    "a = random.uniform(10, 20)\n",
    "print(a)"
   ]
  },
  {
   "cell_type": "code",
   "execution_count": 74,
   "id": "18a1fd7c",
   "metadata": {},
   "outputs": [
    {
     "name": "stdout",
     "output_type": "stream",
     "text": [
      "input = 320683200308140419\n",
      "success\n"
     ]
    }
   ],
   "source": [
    "#正则表达式(^\\d{15}$)|(^\\d{17}([0-9]|x)$)\n",
    "import re\n",
    "def ID_card(line):\n",
    "    line2 = re.match(r'(^\\d{15}$)|(^\\d{17}([0-9]|x)$)', line)\n",
    "    if line2 == None:\n",
    "        print(\"failure\")\n",
    "    else:\n",
    "        print(\"success\")\n",
    "line = input(\"input = \")\n",
    "ID_card(line)"
   ]
  },
  {
   "cell_type": "code",
   "execution_count": 73,
   "id": "da8d75aa",
   "metadata": {},
   "outputs": [
    {
     "name": "stdout",
     "output_type": "stream",
     "text": [
      "(0, 3)\n",
      "None\n"
     ]
    }
   ],
   "source": [
    "import re\n",
    "print(re.match('www', 'www.runoob.com').span())  # 在起始位置匹配\n",
    "print(re.match('com', 'www.runoob.com'))         # 不在起始位置匹配"
   ]
  },
  {
   "cell_type": "code",
   "execution_count": 18,
   "id": "bd18ef98",
   "metadata": {},
   "outputs": [
    {
     "name": "stdout",
     "output_type": "stream",
     "text": [
      "Not Found\n",
      "3\n",
      "5\n"
     ]
    }
   ],
   "source": [
    "class LinkNode:\n",
    "    \n",
    "    def __init__(self, value_):\n",
    "        self.value_ = value_\n",
    "        self.next_ = None\n",
    "\n",
    "class LinkList:\n",
    "    \n",
    "    def __init__(self):\n",
    "        self.head_ = None\n",
    "    \n",
    "    def is_empty_(self):\n",
    "        if self.head_ == None:\n",
    "            return 1\n",
    "        else:\n",
    "            return 0\n",
    "    \n",
    "    def length_(self):\n",
    "        node = self.head_\n",
    "        length = 0\n",
    "        while node != None:\n",
    "            length += 1\n",
    "            node = node.next_\n",
    "        return length\n",
    "    \n",
    "    def traverse_(self):\n",
    "        node = self.head_\n",
    "        while node != None:\n",
    "            print(node.value_)\n",
    "            node = node.next_\n",
    "    \n",
    "    def insert_(self, value_, way_):\n",
    "        node = LinkNode(value_)\n",
    "        if way_ == 'head':\n",
    "            node.next_ = self.head_\n",
    "            self.head_ = node\n",
    "        elif way_ == 'tail':\n",
    "            if self.head_ == None:\n",
    "                self.head_ = node\n",
    "            else:\n",
    "                node1 = self.head_\n",
    "                while node1.next_ != None:\n",
    "                    node1 = node1.next_\n",
    "                node1.next_ = node\n",
    "        \n",
    "    def delete_(self, value_):\n",
    "        node = self.head_\n",
    "        if node.value_ == value_:\n",
    "            self.head_ = node.next_\n",
    "        else:\n",
    "            node1 = node.next_\n",
    "            while node1 != value_:\n",
    "                node = node.next_\n",
    "                node1 = node.next_\n",
    "            node.next_ = node1.next_\n",
    "    \n",
    "    def modify_(self, value_1, value_2):\n",
    "        node = self.head_\n",
    "        while node.value_ != value_1:\n",
    "            node = node.next_\n",
    "        node.value_ = value_2\n",
    "    \n",
    "    def search_(self, value_):\n",
    "        node = self.head_\n",
    "        while node != None:\n",
    "            if node.value_ == value_:\n",
    "                break\n",
    "            else:\n",
    "                node = node.next_\n",
    "        if node == None:\n",
    "            print(\"Not Found\")\n",
    "        else:\n",
    "            print(\"Found It\")\n",
    "\n",
    "My_link = LinkList()\n",
    "My_link.insert_(1, 'head')\n",
    "My_link.insert_(3, 'head')\n",
    "My_link.insert_(5, 'tail')\n",
    "My_link.delete_(3)\n",
    "My_link.modify_(1, 3)\n",
    "My_link.search_(4)\n",
    "My_link.traverse_()"
   ]
  },
  {
   "cell_type": "code",
   "execution_count": 41,
   "id": "6b03e577",
   "metadata": {},
   "outputs": [
    {
     "name": "stdout",
     "output_type": "stream",
     "text": [
      "1到100之间的偶数为： 2 4 6 8 10 12 14 16 18 20 22 24 26 28 30 32 34 36 38 40 42 44 46 48 50 52 54 56 58 60 62 64 66 68 70 72 74 76 78 80 82 84 86 88 90 92 94 96 98 100 "
     ]
    }
   ],
   "source": [
    "print(\"1到100之间的偶数为：\", end = ' ')\n",
    "for i in range(1, 101, 1):\n",
    "    if i % 2 == 0:\n",
    "        print(i, end = ' ')"
   ]
  },
  {
   "cell_type": "code",
   "execution_count": 43,
   "id": "df645627",
   "metadata": {},
   "outputs": [
    {
     "name": "stdout",
     "output_type": "stream",
     "text": [
      "input : 100\n",
      "优秀\n"
     ]
    }
   ],
   "source": [
    "def grade_conversion(score):\n",
    "    if score < 60:\n",
    "        print(\"不合格\")\n",
    "    elif score >= 60 and score <= 74:\n",
    "        print(\"合格\")\n",
    "    elif score >= 75 and score <= 89:\n",
    "        print(\"良好\")\n",
    "    elif score >= 90:\n",
    "        print(\"优秀\")\n",
    "score = int(input(\"input : \"))\n",
    "grade_conversion(score)"
   ]
  },
  {
   "cell_type": "code",
   "execution_count": 47,
   "id": "e85a19af",
   "metadata": {},
   "outputs": [
    {
     "name": "stdout",
     "output_type": "stream",
     "text": [
      "input num1 = 45\n",
      "input num2 = 1\n",
      "最大公约数为：1\n"
     ]
    }
   ],
   "source": [
    "def gcd(num1, num2):\n",
    "    if num1 <= num2:\n",
    "        ter = num1\n",
    "    else:\n",
    "        ter = num2\n",
    "    for i in range(ter, 0, -1):\n",
    "        if num1 % i == 0 and num2 % i == 0:\n",
    "            return i\n",
    "num1 = int(input(\"input num1 = \"))\n",
    "num2 = int(input(\"input num2 = \"))\n",
    "print(\"最大公约数为：\" , end = '')\n",
    "print(gcd(num1, num2))"
   ]
  },
  {
   "cell_type": "code",
   "execution_count": 23,
   "id": "c536de17",
   "metadata": {},
   "outputs": [
    {
     "name": "stdout",
     "output_type": "stream",
     "text": [
      "sum = 10000\n",
      "The time of selection sort is: 2.752159\n",
      "The time of merge sort is: 0.036374\n"
     ]
    }
   ],
   "source": [
    "import time\n",
    "import random\n",
    "\n",
    "def selection_sort(A):\n",
    "    for i in range(0, len(A), 1):\n",
    "        min = A[i]\n",
    "        p = i\n",
    "        for j in range(i + 1, len(A), 1):\n",
    "            if min > A[j]:\n",
    "                min = A[j]\n",
    "                p = j\n",
    "        A[i],A[p] = A[p],A[i]\n",
    "\n",
    "def merge(A, B, la, lb, C):\n",
    "    i = 0\n",
    "    j = 0\n",
    "    for k in range(0, la + lb, 1):\n",
    "        if A[i] < B[j]:\n",
    "            C[k] = A[i]\n",
    "            i += 1\n",
    "        else:\n",
    "            C[k] = B[j]\n",
    "            j += 1\n",
    "        if i >= la or j >= lb:\n",
    "            break\n",
    "    k = k + 1\n",
    "    while i < la:\n",
    "        C[k] = A[i]\n",
    "        i += 1\n",
    "        k += 1\n",
    "    while j < lb:\n",
    "        C[k] = B[j]\n",
    "        j += 1\n",
    "        k += 1\n",
    "\n",
    "def merge_sort(C, lc):\n",
    "    if lc < 2:\n",
    "        return\n",
    "    mid = lc // 2\n",
    "    la = mid\n",
    "    lb = lc - la\n",
    "    A = []\n",
    "    B = []\n",
    "    for i in range(0, la, 1):\n",
    "        A.append(C[i])\n",
    "    for i in range(la, la + lb, 1):\n",
    "        B.append(C[i])\n",
    "    merge_sort(A, la)\n",
    "    merge_sort(B, lb)\n",
    "    merge(A, B, la, lb, C)\n",
    "    \n",
    "sum = int(input(\"sum = \"))\n",
    "A = []\n",
    "B = []\n",
    "for i in range(0, sum, 1):\n",
    "    t = random.uniform(1, 10 * sum)\n",
    "    A.append(t)\n",
    "B = A[:]\n",
    "\n",
    "time_start1 = time.time()\n",
    "selection_sort(A)\n",
    "time_end1 = time.time()\n",
    "time_sum1 = time_end1 - time_start1\n",
    "print(\"The time of selection sort is: %f\" %time_sum1)\n",
    "\n",
    "time_start2 = time.time()\n",
    "merge_sort(B, len(B))\n",
    "time_end2 = time.time()\n",
    "time_sum2 = time_end2 - time_start2\n",
    "print(\"The time of merge sort is: %f\" %time_sum2)\n",
    "\n",
    "\n"
   ]
  },
  {
   "cell_type": "code",
   "execution_count": 21,
   "id": "bf1ac56a",
   "metadata": {},
   "outputs": [
    {
     "name": "stdout",
     "output_type": "stream",
     "text": [
      "[24, 12, 8, 6]\n"
     ]
    }
   ],
   "source": [
    "def create_B(A, B):\n",
    "    for i in range(0, len(A), 1):\n",
    "        cur = 1\n",
    "        for j in range(0, i, 1):\n",
    "            cur *= A[j]\n",
    "        for j in range(i + 1, len(A), 1):\n",
    "            cur *= A[j]\n",
    "        B.append(cur)\n",
    "A = [1, 2, 3, 4]\n",
    "B = []\n",
    "create_B(A, B)\n",
    "print(B)"
   ]
  },
  {
   "cell_type": "code",
   "execution_count": 76,
   "id": "b2177e3a",
   "metadata": {},
   "outputs": [
    {
     "ename": "SyntaxError",
     "evalue": "invalid syntax (2497625317.py, line 2)",
     "output_type": "error",
     "traceback": [
      "\u001b[1;36m  Cell \u001b[1;32mIn[76], line 2\u001b[1;36m\u001b[0m\n\u001b[1;33m    for i in range(0, , 1):\u001b[0m\n\u001b[1;37m                      ^\u001b[0m\n\u001b[1;31mSyntaxError\u001b[0m\u001b[1;31m:\u001b[0m invalid syntax\n"
     ]
    }
   ],
   "source": []
  },
  {
   "cell_type": "code",
   "execution_count": null,
   "id": "b7c65362",
   "metadata": {},
   "outputs": [],
   "source": []
  }
 ],
 "metadata": {
  "kernelspec": {
   "display_name": "Python 3 (ipykernel)",
   "language": "python",
   "name": "python3"
  },
  "language_info": {
   "codemirror_mode": {
    "name": "ipython",
    "version": 3
   },
   "file_extension": ".py",
   "mimetype": "text/x-python",
   "name": "python",
   "nbconvert_exporter": "python",
   "pygments_lexer": "ipython3",
   "version": "3.10.9"
  }
 },
 "nbformat": 4,
 "nbformat_minor": 5
}
